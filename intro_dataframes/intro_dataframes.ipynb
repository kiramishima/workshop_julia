{
 "cells": [
  {
   "cell_type": "code",
   "execution_count": 1,
   "id": "6befd84e-23ae-4154-ac87-cf2be608cc10",
   "metadata": {
    "scrolled": true
   },
   "outputs": [
    {
     "name": "stderr",
     "output_type": "stream",
     "text": [
      "\u001b[32m\u001b[1m   Resolving\u001b[22m\u001b[39m package versions...\n",
      "\u001b[32m\u001b[1m  No Changes\u001b[22m\u001b[39m to `C:\\Users\\kiramishima\\.julia\\environments\\v1.10\\Project.toml`\n",
      "\u001b[32m\u001b[1m  No Changes\u001b[22m\u001b[39m to `C:\\Users\\kiramishima\\.julia\\environments\\v1.10\\Manifest.toml`\n"
     ]
    }
   ],
   "source": [
    "import Pkg; Pkg.add(\"Plots\")"
   ]
  },
  {
   "cell_type": "code",
   "execution_count": 2,
   "id": "cab5317b-a48d-4386-97a3-e5977ee9d583",
   "metadata": {},
   "outputs": [],
   "source": [
    "using DataFrames\n",
    "using CSV\n",
    "using HTTP\n",
    "using Plots"
   ]
  },
  {
   "cell_type": "code",
   "execution_count": 3,
   "id": "3f09d2f8-4ddf-42d8-aaf0-9e0854d0201a",
   "metadata": {},
   "outputs": [
    {
     "data": {
      "text/html": [
       "<div><div style = \"float: left;\"><span>10×4 DataFrame</span></div><div style = \"clear: both;\"></div></div><div class = \"data-frame\" style = \"overflow-x: scroll;\"><table class = \"data-frame\" style = \"margin-bottom: 6px;\"><thead><tr class = \"header\"><th class = \"rowNumber\" style = \"font-weight: bold; text-align: right;\">Row</th><th style = \"text-align: left;\">country</th><th style = \"text-align: left;\">Bronze</th><th style = \"text-align: left;\">Gold</th><th style = \"text-align: left;\">Silver</th></tr><tr class = \"subheader headerLastRow\"><th class = \"rowNumber\" style = \"font-weight: bold; text-align: right;\"></th><th title = \"String15\" style = \"text-align: left;\">String15</th><th title = \"Int64\" style = \"text-align: left;\">Int64</th><th title = \"Int64\" style = \"text-align: left;\">Int64</th><th title = \"Int64\" style = \"text-align: left;\">Int64</th></tr></thead><tbody><tr><td class = \"rowNumber\" style = \"font-weight: bold; text-align: right;\">1</td><td style = \"text-align: left;\">United States</td><td style = \"text-align: right;\">67</td><td style = \"text-align: right;\">137</td><td style = \"text-align: right;\">52</td></tr><tr><td class = \"rowNumber\" style = \"font-weight: bold; text-align: right;\">2</td><td style = \"text-align: left;\">Germany</td><td style = \"text-align: right;\">67</td><td style = \"text-align: right;\">47</td><td style = \"text-align: right;\">43</td></tr><tr><td class = \"rowNumber\" style = \"font-weight: bold; text-align: right;\">3</td><td style = \"text-align: left;\">Great Britain</td><td style = \"text-align: right;\">26</td><td style = \"text-align: right;\">64</td><td style = \"text-align: right;\">55</td></tr><tr><td class = \"rowNumber\" style = \"font-weight: bold; text-align: right;\">4</td><td style = \"text-align: left;\">Russia</td><td style = \"text-align: right;\">35</td><td style = \"text-align: right;\">50</td><td style = \"text-align: right;\">28</td></tr><tr><td class = \"rowNumber\" style = \"font-weight: bold; text-align: right;\">5</td><td style = \"text-align: left;\">China</td><td style = \"text-align: right;\">35</td><td style = \"text-align: right;\">44</td><td style = \"text-align: right;\">30</td></tr><tr><td class = \"rowNumber\" style = \"font-weight: bold; text-align: right;\">6</td><td style = \"text-align: left;\">France</td><td style = \"text-align: right;\">21</td><td style = \"text-align: right;\">20</td><td style = \"text-align: right;\">55</td></tr><tr><td class = \"rowNumber\" style = \"font-weight: bold; text-align: right;\">7</td><td style = \"text-align: left;\">Australia</td><td style = \"text-align: right;\">25</td><td style = \"text-align: right;\">23</td><td style = \"text-align: right;\">34</td></tr><tr><td class = \"rowNumber\" style = \"font-weight: bold; text-align: right;\">8</td><td style = \"text-align: left;\">Italy</td><td style = \"text-align: right;\">24</td><td style = \"text-align: right;\">8</td><td style = \"text-align: right;\">38</td></tr><tr><td class = \"rowNumber\" style = \"font-weight: bold; text-align: right;\">9</td><td style = \"text-align: left;\">Canada</td><td style = \"text-align: right;\">61</td><td style = \"text-align: right;\">4</td><td style = \"text-align: right;\">4</td></tr><tr><td class = \"rowNumber\" style = \"font-weight: bold; text-align: right;\">10</td><td style = \"text-align: left;\">Japan</td><td style = \"text-align: right;\">34</td><td style = \"text-align: right;\">17</td><td style = \"text-align: right;\">13</td></tr></tbody></table></div>"
      ],
      "text/latex": [
       "\\begin{tabular}{r|cccc}\n",
       "\t& country & Bronze & Gold & Silver\\\\\n",
       "\t\\hline\n",
       "\t& String15 & Int64 & Int64 & Int64\\\\\n",
       "\t\\hline\n",
       "\t1 & United States & 67 & 137 & 52 \\\\\n",
       "\t2 & Germany & 67 & 47 & 43 \\\\\n",
       "\t3 & Great Britain & 26 & 64 & 55 \\\\\n",
       "\t4 & Russia & 35 & 50 & 28 \\\\\n",
       "\t5 & China & 35 & 44 & 30 \\\\\n",
       "\t6 & France & 21 & 20 & 55 \\\\\n",
       "\t7 & Australia & 25 & 23 & 34 \\\\\n",
       "\t8 & Italy & 24 & 8 & 38 \\\\\n",
       "\t9 & Canada & 61 & 4 & 4 \\\\\n",
       "\t10 & Japan & 34 & 17 & 13 \\\\\n",
       "\\end{tabular}\n"
      ],
      "text/plain": [
       "\u001b[1m10×4 DataFrame\u001b[0m\n",
       "\u001b[1m Row \u001b[0m│\u001b[1m country       \u001b[0m\u001b[1m Bronze \u001b[0m\u001b[1m Gold  \u001b[0m\u001b[1m Silver \u001b[0m\n",
       "     │\u001b[90m String15      \u001b[0m\u001b[90m Int64  \u001b[0m\u001b[90m Int64 \u001b[0m\u001b[90m Int64  \u001b[0m\n",
       "─────┼──────────────────────────────────────\n",
       "   1 │ United States      67    137      52\n",
       "   2 │ Germany            67     47      43\n",
       "   3 │ Great Britain      26     64      55\n",
       "   4 │ Russia             35     50      28\n",
       "   5 │ China              35     44      30\n",
       "   6 │ France             21     20      55\n",
       "   7 │ Australia          25     23      34\n",
       "   8 │ Italy              24      8      38\n",
       "   9 │ Canada             61      4       4\n",
       "  10 │ Japan              34     17      13"
      ]
     },
     "execution_count": 3,
     "metadata": {},
     "output_type": "execute_result"
    }
   ],
   "source": [
    "df = CSV.read(\"medals_by_country_2016.csv\", DataFrame)"
   ]
  },
  {
   "cell_type": "code",
   "execution_count": 4,
   "id": "11d5b21d-dfb3-4fe1-9a5d-d09a4c86d4a8",
   "metadata": {},
   "outputs": [
    {
     "data": {
      "text/html": [
       "<div><div style = \"float: left;\"><span>4×7 DataFrame</span></div><div style = \"clear: both;\"></div></div><div class = \"data-frame\" style = \"overflow-x: scroll;\"><table class = \"data-frame\" style = \"margin-bottom: 6px;\"><thead><tr class = \"header\"><th class = \"rowNumber\" style = \"font-weight: bold; text-align: right;\">Row</th><th style = \"text-align: left;\">variable</th><th style = \"text-align: left;\">mean</th><th style = \"text-align: left;\">min</th><th style = \"text-align: left;\">median</th><th style = \"text-align: left;\">max</th><th style = \"text-align: left;\">nmissing</th><th style = \"text-align: left;\">eltype</th></tr><tr class = \"subheader headerLastRow\"><th class = \"rowNumber\" style = \"font-weight: bold; text-align: right;\"></th><th title = \"Symbol\" style = \"text-align: left;\">Symbol</th><th title = \"Union{Nothing, Float64}\" style = \"text-align: left;\">Union…</th><th title = \"Any\" style = \"text-align: left;\">Any</th><th title = \"Union{Nothing, Float64}\" style = \"text-align: left;\">Union…</th><th title = \"Any\" style = \"text-align: left;\">Any</th><th title = \"Int64\" style = \"text-align: left;\">Int64</th><th title = \"DataType\" style = \"text-align: left;\">DataType</th></tr></thead><tbody><tr><td class = \"rowNumber\" style = \"font-weight: bold; text-align: right;\">1</td><td style = \"text-align: left;\">country</td><td style = \"font-style: italic; text-align: left;\"></td><td style = \"text-align: left;\">Australia</td><td style = \"font-style: italic; text-align: left;\"></td><td style = \"text-align: left;\">United States</td><td style = \"text-align: right;\">0</td><td style = \"text-align: left;\">String15</td></tr><tr><td class = \"rowNumber\" style = \"font-weight: bold; text-align: right;\">2</td><td style = \"text-align: left;\">Bronze</td><td style = \"text-align: left;\">39.5</td><td style = \"text-align: left;\">21</td><td style = \"text-align: left;\">34.5</td><td style = \"text-align: left;\">67</td><td style = \"text-align: right;\">0</td><td style = \"text-align: left;\">Int64</td></tr><tr><td class = \"rowNumber\" style = \"font-weight: bold; text-align: right;\">3</td><td style = \"text-align: left;\">Gold</td><td style = \"text-align: left;\">41.4</td><td style = \"text-align: left;\">4</td><td style = \"text-align: left;\">33.5</td><td style = \"text-align: left;\">137</td><td style = \"text-align: right;\">0</td><td style = \"text-align: left;\">Int64</td></tr><tr><td class = \"rowNumber\" style = \"font-weight: bold; text-align: right;\">4</td><td style = \"text-align: left;\">Silver</td><td style = \"text-align: left;\">35.2</td><td style = \"text-align: left;\">4</td><td style = \"text-align: left;\">36.0</td><td style = \"text-align: left;\">55</td><td style = \"text-align: right;\">0</td><td style = \"text-align: left;\">Int64</td></tr></tbody></table></div>"
      ],
      "text/latex": [
       "\\begin{tabular}{r|ccccccc}\n",
       "\t& variable & mean & min & median & max & nmissing & eltype\\\\\n",
       "\t\\hline\n",
       "\t& Symbol & Union… & Any & Union… & Any & Int64 & DataType\\\\\n",
       "\t\\hline\n",
       "\t1 & country &  & Australia &  & United States & 0 & String15 \\\\\n",
       "\t2 & Bronze & 39.5 & 21 & 34.5 & 67 & 0 & Int64 \\\\\n",
       "\t3 & Gold & 41.4 & 4 & 33.5 & 137 & 0 & Int64 \\\\\n",
       "\t4 & Silver & 35.2 & 4 & 36.0 & 55 & 0 & Int64 \\\\\n",
       "\\end{tabular}\n"
      ],
      "text/plain": [
       "\u001b[1m4×7 DataFrame\u001b[0m\n",
       "\u001b[1m Row \u001b[0m│\u001b[1m variable \u001b[0m\u001b[1m mean   \u001b[0m\u001b[1m min       \u001b[0m\u001b[1m median \u001b[0m\u001b[1m max           \u001b[0m\u001b[1m nmissing \u001b[0m\u001b[1m eltype   \u001b[0m\n",
       "     │\u001b[90m Symbol   \u001b[0m\u001b[90m Union… \u001b[0m\u001b[90m Any       \u001b[0m\u001b[90m Union… \u001b[0m\u001b[90m Any           \u001b[0m\u001b[90m Int64    \u001b[0m\u001b[90m DataType \u001b[0m\n",
       "─────┼────────────────────────────────────────────────────────────────────────\n",
       "   1 │ country  \u001b[90m        \u001b[0m Australia \u001b[90m        \u001b[0m United States         0  String15\n",
       "   2 │ Bronze    39.5    21         34.5    67                    0  Int64\n",
       "   3 │ Gold      41.4    4          33.5    137                   0  Int64\n",
       "   4 │ Silver    35.2    4          36.0    55                    0  Int64"
      ]
     },
     "execution_count": 4,
     "metadata": {},
     "output_type": "execute_result"
    }
   ],
   "source": [
    "describe(df)"
   ]
  },
  {
   "cell_type": "code",
   "execution_count": 27,
   "id": "fdb0bd55",
   "metadata": {},
   "outputs": [
    {
     "data": {
      "text/plain": [
       "\"d:\\\\Workspace\\\\ws_julia\\\\workshop_julia\\\\intro_dataframes\\\\gold_medals.png\""
      ]
     },
     "execution_count": 27,
     "metadata": {},
     "output_type": "execute_result"
    }
   ],
   "source": [
    "plot(bar(df.country, df.Gold, labels=\"Gold\"), xrotation = 90)\n",
    "\n",
    "title!(\"Gold medals by Country\")\n",
    "\n",
    "savefig(\"gold_medals.png\")"
   ]
  }
 ],
 "metadata": {
  "kernelspec": {
   "display_name": "Julia 1.10.0",
   "language": "julia",
   "name": "julia-1.10"
  },
  "language_info": {
   "file_extension": ".jl",
   "mimetype": "application/julia",
   "name": "julia",
   "version": "1.10.0"
  }
 },
 "nbformat": 4,
 "nbformat_minor": 5
}
