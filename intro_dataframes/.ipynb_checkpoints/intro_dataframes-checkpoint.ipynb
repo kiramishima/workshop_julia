{
 "cells": [
  {
   "cell_type": "code",
   "execution_count": 3,
   "id": "6befd84e-23ae-4154-ac87-cf2be608cc10",
   "metadata": {
    "scrolled": true
   },
   "outputs": [
    {
     "name": "stderr",
     "output_type": "stream",
     "text": [
      "\u001b[32m\u001b[1m   Resolving\u001b[22m\u001b[39m package versions...\n",
      "\u001b[32m\u001b[1m  No Changes\u001b[22m\u001b[39m to `C:\\Users\\kiramishima\\.julia\\environments\\v1.10\\Project.toml`\n",
      "\u001b[32m\u001b[1m  No Changes\u001b[22m\u001b[39m to `C:\\Users\\kiramishima\\.julia\\environments\\v1.10\\Manifest.toml`\n"
     ]
    }
   ],
   "source": [
    "import Pkg; Pkg.add(\"Plots\")"
   ]
  },
  {
   "cell_type": "code",
   "execution_count": 4,
   "id": "cab5317b-a48d-4386-97a3-e5977ee9d583",
   "metadata": {},
   "outputs": [],
   "source": [
    "using DataFrames\n",
    "using CSV\n",
    "using HTTP\n",
    "using Plots"
   ]
  },
  {
   "cell_type": "code",
   "execution_count": 5,
   "id": "3f09d2f8-4ddf-42d8-aaf0-9e0854d0201a",
   "metadata": {},
   "outputs": [
    {
     "data": {
      "text/html": [
       "<div><div style = \"float: left;\"><span>4185×3 DataFrame</span></div><div style = \"float: right;\"><span style = \"font-style: italic;\">4160 rows omitted</span></div><div style = \"clear: both;\"></div></div><div class = \"data-frame\" style = \"overflow-x: scroll;\"><table class = \"data-frame\" style = \"margin-bottom: 6px;\"><thead><tr class = \"header\"><th class = \"rowNumber\" style = \"font-weight: bold; text-align: right;\">Row</th><th style = \"text-align: left;\">country</th><th style = \"text-align: left;\">year</th><th style = \"text-align: left;\">population</th></tr><tr class = \"subheader headerLastRow\"><th class = \"rowNumber\" style = \"font-weight: bold; text-align: right;\"></th><th title = \"String31\" style = \"text-align: left;\">String31</th><th title = \"Union{Missing, Int64}\" style = \"text-align: left;\">Int64?</th><th title = \"Union{Missing, Int64}\" style = \"text-align: left;\">Int64?</th></tr></thead><tbody><tr><td class = \"rowNumber\" style = \"font-weight: bold; text-align: right;\">1</td><td style = \"text-align: left;\">China</td><td style = \"text-align: right;\">2020</td><td style = \"text-align: right;\">1439323776</td></tr><tr><td class = \"rowNumber\" style = \"font-weight: bold; text-align: right;\">2</td><td style = \"text-align: left;\">China</td><td style = \"text-align: right;\">2019</td><td style = \"text-align: right;\">1433783686</td></tr><tr><td class = \"rowNumber\" style = \"font-weight: bold; text-align: right;\">3</td><td style = \"text-align: left;\">China</td><td style = \"text-align: right;\">2018</td><td style = \"text-align: right;\">1427647786</td></tr><tr><td class = \"rowNumber\" style = \"font-weight: bold; text-align: right;\">4</td><td style = \"text-align: left;\">China</td><td style = \"text-align: right;\">2017</td><td style = \"text-align: right;\">1421021791</td></tr><tr><td class = \"rowNumber\" style = \"font-weight: bold; text-align: right;\">5</td><td style = \"text-align: left;\">China</td><td style = \"text-align: right;\">2016</td><td style = \"text-align: right;\">1414049351</td></tr><tr><td class = \"rowNumber\" style = \"font-weight: bold; text-align: right;\">6</td><td style = \"text-align: left;\">China</td><td style = \"text-align: right;\">2015</td><td style = \"text-align: right;\">1406847870</td></tr><tr><td class = \"rowNumber\" style = \"font-weight: bold; text-align: right;\">7</td><td style = \"text-align: left;\">China</td><td style = \"text-align: right;\">2010</td><td style = \"text-align: right;\">1368810615</td></tr><tr><td class = \"rowNumber\" style = \"font-weight: bold; text-align: right;\">8</td><td style = \"text-align: left;\">China</td><td style = \"text-align: right;\">2005</td><td style = \"text-align: right;\">1330776380</td></tr><tr><td class = \"rowNumber\" style = \"font-weight: bold; text-align: right;\">9</td><td style = \"text-align: left;\">China</td><td style = \"text-align: right;\">2000</td><td style = \"text-align: right;\">1290550765</td></tr><tr><td class = \"rowNumber\" style = \"font-weight: bold; text-align: right;\">10</td><td style = \"text-align: left;\">China</td><td style = \"text-align: right;\">1995</td><td style = \"text-align: right;\">1240920535</td></tr><tr><td class = \"rowNumber\" style = \"font-weight: bold; text-align: right;\">11</td><td style = \"text-align: left;\">China</td><td style = \"text-align: right;\">1990</td><td style = \"text-align: right;\">1176883674</td></tr><tr><td class = \"rowNumber\" style = \"font-weight: bold; text-align: right;\">12</td><td style = \"text-align: left;\">China</td><td style = \"text-align: right;\">1985</td><td style = \"text-align: right;\">1075589361</td></tr><tr><td class = \"rowNumber\" style = \"font-weight: bold; text-align: right;\">13</td><td style = \"text-align: left;\">China</td><td style = \"text-align: right;\">1980</td><td style = \"text-align: right;\">1000089235</td></tr><tr><td style = \"text-align: right;\">&vellip;</td><td style = \"text-align: right;\">&vellip;</td><td style = \"text-align: right;\">&vellip;</td><td style = \"text-align: right;\">&vellip;</td></tr><tr><td class = \"rowNumber\" style = \"font-weight: bold; text-align: right;\">4174</td><td style = \"text-align: left;\">Pakistan</td><td style = \"text-align: right;\">1960</td><td style = \"text-align: right;\">44988690</td></tr><tr><td class = \"rowNumber\" style = \"font-weight: bold; text-align: right;\">4175</td><td style = \"text-align: left;\">Pakistan</td><td style = \"text-align: right;\">1955</td><td style = \"text-align: right;\">40488030</td></tr><tr><td class = \"rowNumber\" style = \"font-weight: bold; text-align: right;\">4176</td><td style = \"text-align: left;\">Indonesia</td><td style = \"text-align: right;\">1960</td><td style = \"text-align: right;\">87751068</td></tr><tr><td class = \"rowNumber\" style = \"font-weight: bold; text-align: right;\">4177</td><td style = \"text-align: left;\">Indonesia</td><td style = \"text-align: right;\">1955</td><td style = \"text-align: right;\">77273425</td></tr><tr><td class = \"rowNumber\" style = \"font-weight: bold; text-align: right;\">4178</td><td style = \"text-align: left;\">India</td><td style = \"text-align: right;\">1975</td><td style = \"text-align: right;\">623102897</td></tr><tr><td class = \"rowNumber\" style = \"font-weight: bold; text-align: right;\">4179</td><td style = \"text-align: left;\">India</td><td style = \"text-align: right;\">1970</td><td style = \"text-align: right;\">555189792</td></tr><tr><td class = \"rowNumber\" style = \"font-weight: bold; text-align: right;\">4180</td><td style = \"text-align: left;\">India</td><td style = \"text-align: right;\">1965</td><td style = \"text-align: right;\">499123324</td></tr><tr><td class = \"rowNumber\" style = \"font-weight: bold; text-align: right;\">4181</td><td style = \"text-align: left;\">United States</td><td style = \"text-align: right;\">1965</td><td style = \"text-align: right;\">199733676</td></tr><tr><td class = \"rowNumber\" style = \"font-weight: bold; text-align: right;\">4182</td><td style = \"text-align: left;\">United States</td><td style = \"text-align: right;\">1960</td><td style = \"text-align: right;\">186720571</td></tr><tr><td class = \"rowNumber\" style = \"font-weight: bold; text-align: right;\">4183</td><td style = \"text-align: left;\">United States</td><td style = \"text-align: right;\">1955</td><td style = \"text-align: right;\">171685336</td></tr><tr><td class = \"rowNumber\" style = \"font-weight: bold; text-align: right;\">4184</td><td style = \"text-align: left;\">India</td><td style = \"text-align: right;\">1960</td><td style = \"text-align: right;\">450547679</td></tr><tr><td class = \"rowNumber\" style = \"font-weight: bold; text-align: right;\">4185</td><td style = \"text-align: left;\">India</td><td style = \"text-align: right;\">1955</td><td style = \"text-align: right;\">409880595</td></tr></tbody></table></div>"
      ],
      "text/latex": [
       "\\begin{tabular}{r|ccc}\n",
       "\t& country & year & population\\\\\n",
       "\t\\hline\n",
       "\t& String31 & Int64? & Int64?\\\\\n",
       "\t\\hline\n",
       "\t1 & China & 2020 & 1439323776 \\\\\n",
       "\t2 & China & 2019 & 1433783686 \\\\\n",
       "\t3 & China & 2018 & 1427647786 \\\\\n",
       "\t4 & China & 2017 & 1421021791 \\\\\n",
       "\t5 & China & 2016 & 1414049351 \\\\\n",
       "\t6 & China & 2015 & 1406847870 \\\\\n",
       "\t7 & China & 2010 & 1368810615 \\\\\n",
       "\t8 & China & 2005 & 1330776380 \\\\\n",
       "\t9 & China & 2000 & 1290550765 \\\\\n",
       "\t10 & China & 1995 & 1240920535 \\\\\n",
       "\t11 & China & 1990 & 1176883674 \\\\\n",
       "\t12 & China & 1985 & 1075589361 \\\\\n",
       "\t13 & China & 1980 & 1000089235 \\\\\n",
       "\t14 & China & 1975 & 926240885 \\\\\n",
       "\t15 & China & 1970 & 827601394 \\\\\n",
       "\t16 & China & 1965 & 724218968 \\\\\n",
       "\t17 & China & 1960 & 660408056 \\\\\n",
       "\t18 & China & 1955 & 612241554 \\\\\n",
       "\t19 & France & 2020 & 65273511 \\\\\n",
       "\t20 & France & 2019 & 65129728 \\\\\n",
       "\t21 & France & 2018 & 64990511 \\\\\n",
       "\t22 & Myanmar & 2020 & 54409800 \\\\\n",
       "\t23 & Myanmar & 2019 & 54045420 \\\\\n",
       "\t24 & South Africa & 2020 & 59308690 \\\\\n",
       "\t25 & Tanzania & 2020 & 59734218 \\\\\n",
       "\t26 & Italy & 2020 & 60461826 \\\\\n",
       "\t27 & France & 2017 & 64842509 \\\\\n",
       "\t28 & France & 2016 & 64667596 \\\\\n",
       "\t29 & France & 2015 & 64453200 \\\\\n",
       "\t30 & Myanmar & 2018 & 53708320 \\\\\n",
       "\t$\\dots$ & $\\dots$ & $\\dots$ & $\\dots$ \\\\\n",
       "\\end{tabular}\n"
      ],
      "text/plain": [
       "\u001b[1m4185×3 DataFrame\u001b[0m\n",
       "\u001b[1m  Row \u001b[0m│\u001b[1m country       \u001b[0m\u001b[1m year   \u001b[0m\u001b[1m population \u001b[0m\n",
       "      │\u001b[90m String31      \u001b[0m\u001b[90m Int64? \u001b[0m\u001b[90m Int64?     \u001b[0m\n",
       "──────┼───────────────────────────────────\n",
       "    1 │ China            2020  1439323776\n",
       "    2 │ China            2019  1433783686\n",
       "    3 │ China            2018  1427647786\n",
       "    4 │ China            2017  1421021791\n",
       "    5 │ China            2016  1414049351\n",
       "    6 │ China            2015  1406847870\n",
       "    7 │ China            2010  1368810615\n",
       "    8 │ China            2005  1330776380\n",
       "    9 │ China            2000  1290550765\n",
       "   10 │ China            1995  1240920535\n",
       "   11 │ China            1990  1176883674\n",
       "  ⋮   │       ⋮          ⋮         ⋮\n",
       " 4176 │ Indonesia        1960    87751068\n",
       " 4177 │ Indonesia        1955    77273425\n",
       " 4178 │ India            1975   623102897\n",
       " 4179 │ India            1970   555189792\n",
       " 4180 │ India            1965   499123324\n",
       " 4181 │ United States    1965   199733676\n",
       " 4182 │ United States    1960   186720571\n",
       " 4183 │ United States    1955   171685336\n",
       " 4184 │ India            1960   450547679\n",
       " 4185 │ India            1955   409880595\n",
       "\u001b[36m                         4164 rows omitted\u001b[0m"
      ]
     },
     "execution_count": 5,
     "metadata": {},
     "output_type": "execute_result"
    }
   ],
   "source": [
    "df = CSV.read(\"population_total.csv\", DataFrame)"
   ]
  },
  {
   "cell_type": "code",
   "execution_count": 7,
   "id": "11d5b21d-dfb3-4fe1-9a5d-d09a4c86d4a8",
   "metadata": {},
   "outputs": [
    {
     "data": {
      "text/html": [
       "<div><div style = \"float: left;\"><span>3×7 DataFrame</span></div><div style = \"clear: both;\"></div></div><div class = \"data-frame\" style = \"overflow-x: scroll;\"><table class = \"data-frame\" style = \"margin-bottom: 6px;\"><thead><tr class = \"header\"><th class = \"rowNumber\" style = \"font-weight: bold; text-align: right;\">Row</th><th style = \"text-align: left;\">variable</th><th style = \"text-align: left;\">mean</th><th style = \"text-align: left;\">min</th><th style = \"text-align: left;\">median</th><th style = \"text-align: left;\">max</th><th style = \"text-align: left;\">nmissing</th><th style = \"text-align: left;\">eltype</th></tr><tr class = \"subheader headerLastRow\"><th class = \"rowNumber\" style = \"font-weight: bold; text-align: right;\"></th><th title = \"Symbol\" style = \"text-align: left;\">Symbol</th><th title = \"Union{Nothing, Float64}\" style = \"text-align: left;\">Union…</th><th title = \"Any\" style = \"text-align: left;\">Any</th><th title = \"Union{Nothing, Float64}\" style = \"text-align: left;\">Union…</th><th title = \"Any\" style = \"text-align: left;\">Any</th><th title = \"Int64\" style = \"text-align: left;\">Int64</th><th title = \"Type\" style = \"text-align: left;\">Type</th></tr></thead><tbody><tr><td class = \"rowNumber\" style = \"font-weight: bold; text-align: right;\">1</td><td style = \"text-align: left;\">country</td><td style = \"font-style: italic; text-align: left;\"></td><td style = \"text-align: left;\">Afghanistan</td><td style = \"font-style: italic; text-align: left;\"></td><td style = \"text-align: left;\">Zimbabwe</td><td style = \"text-align: right;\">0</td><td style = \"text-align: left;\">String31</td></tr><tr><td class = \"rowNumber\" style = \"font-weight: bold; text-align: right;\">2</td><td style = \"text-align: left;\">year</td><td style = \"text-align: left;\">1993.96</td><td style = \"text-align: left;\">1955</td><td style = \"text-align: left;\">1995.0</td><td style = \"text-align: left;\">2020</td><td style = \"text-align: right;\">7</td><td style = \"text-align: left;\">Union{Missing, Int64}</td></tr><tr><td class = \"rowNumber\" style = \"font-weight: bold; text-align: right;\">3</td><td style = \"text-align: left;\">population</td><td style = \"text-align: left;\">2.45329e7</td><td style = \"text-align: left;\">644</td><td style = \"text-align: left;\">3.74276e6</td><td style = \"text-align: left;\">1439323776</td><td style = \"text-align: right;\">7</td><td style = \"text-align: left;\">Union{Missing, Int64}</td></tr></tbody></table></div>"
      ],
      "text/latex": [
       "\\begin{tabular}{r|ccccccc}\n",
       "\t& variable & mean & min & median & max & nmissing & eltype\\\\\n",
       "\t\\hline\n",
       "\t& Symbol & Union… & Any & Union… & Any & Int64 & Type\\\\\n",
       "\t\\hline\n",
       "\t1 & country &  & Afghanistan &  & Zimbabwe & 0 & String31 \\\\\n",
       "\t2 & year & 1993.96 & 1955 & 1995.0 & 2020 & 7 & Union\\{Missing, Int64\\} \\\\\n",
       "\t3 & population & 2.45329e7 & 644 & 3.74276e6 & 1439323776 & 7 & Union\\{Missing, Int64\\} \\\\\n",
       "\\end{tabular}\n"
      ],
      "text/plain": [
       "\u001b[1m3×7 DataFrame\u001b[0m\n",
       "\u001b[1m Row \u001b[0m│\u001b[1m variable   \u001b[0m\u001b[1m mean      \u001b[0m\u001b[1m min         \u001b[0m\u001b[1m median    \u001b[0m\u001b[1m max        \u001b[0m\u001b[1m nmissing \u001b[0m\u001b[1m el\u001b[0m ⋯\n",
       "     │\u001b[90m Symbol     \u001b[0m\u001b[90m Union…    \u001b[0m\u001b[90m Any         \u001b[0m\u001b[90m Union…    \u001b[0m\u001b[90m Any        \u001b[0m\u001b[90m Int64    \u001b[0m\u001b[90m Ty\u001b[0m ⋯\n",
       "─────┼──────────────────────────────────────────────────────────────────────────\n",
       "   1 │ country    \u001b[90m           \u001b[0m Afghanistan \u001b[90m           \u001b[0m Zimbabwe           0  St ⋯\n",
       "   2 │ year        1993.96    1955         1995.0     2020               7  Un\n",
       "   3 │ population  2.45329e7  644          3.74276e6  1439323776         7  Un\n",
       "\u001b[36m                                                                1 column omitted\u001b[0m"
      ]
     },
     "execution_count": 7,
     "metadata": {},
     "output_type": "execute_result"
    }
   ],
   "source": [
    "describe(df)"
   ]
  }
 ],
 "metadata": {
  "kernelspec": {
   "display_name": "Julia 1.10.0",
   "language": "julia",
   "name": "julia-1.10"
  },
  "language_info": {
   "file_extension": ".jl",
   "mimetype": "application/julia",
   "name": "julia",
   "version": "1.10.0"
  }
 },
 "nbformat": 4,
 "nbformat_minor": 5
}
